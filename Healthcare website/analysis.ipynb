{
 "cells": [
  {
   "cell_type": "code",
   "execution_count": 1,
   "id": "200145e1",
   "metadata": {},
   "outputs": [
    {
     "name": "stdout",
     "output_type": "stream",
     "text": [
      "Visualizations saved as PNG files.\n"
     ]
    },
    {
     "data": {
      "text/plain": [
       "<Figure size 1000x600 with 0 Axes>"
      ]
     },
     "metadata": {},
     "output_type": "display_data"
    }
   ],
   "source": [
    "import pandas as pd\n",
    "import matplotlib.pyplot as plt\n",
    "\n",
    "# Load CSV (ensure the file exists and has the correct structure)\n",
    "df = pd.read_csv('user_data.csv')\n",
    "\n",
    "# Check if the DataFrame is empty or lacks required columns\n",
    "if df.empty or 'age' not in df.columns or 'total_income' not in df.columns:\n",
    "    raise ValueError(\"DataFrame is empty or missing required columns ('age' or 'total_income'). Check 'user_data.csv'.\")\n",
    "\n",
    "# Convert 'total_income' to numeric, coercing errors to NaN, and drop rows with NaN in key columns\n",
    "df['total_income'] = pd.to_numeric(df['total_income'], errors='coerce')\n",
    "df = df.dropna(subset=['age', 'total_income'])\n",
    "\n",
    "# Visualization 1: Ages with highest income\n",
    "high_income_ages = df.groupby('age')['total_income'].mean().sort_values(ascending=False).head(5)\n",
    "\n",
    "# Check if high_income_ages is empty or non-numeric\n",
    "if high_income_ages.empty or not pd.api.types.is_numeric_dtype(high_income_ages):\n",
    "    raise ValueError(\"No valid numeric data for 'high_income_ages'. Check data integrity.\")\n",
    "\n",
    "plt.figure(figsize=(10, 6))\n",
    "high_income_ages.plot(kind='bar', color=['#00796b', '#d81b60', '#ffca28', '#0288d1', '#7b1fa2'])\n",
    "plt.title('Top 5 Ages with Highest Average Income', fontsize=14, color='#424242')\n",
    "plt.xlabel('Age', fontsize=12)\n",
    "plt.ylabel('Average Income ($)', fontsize=12)\n",
    "plt.tight_layout()\n",
    "plt.savefig('high_income_ages.png')\n",
    "plt.close()\n",
    "\n",
    "# Visualization 2: Gender distribution across spending categories\n",
    "spending_by_gender = df.groupby('gender')[['utilities', 'entertainment', 'school_fees', 'shopping', 'healthcare']].sum()\n",
    "\n",
    "# Check if spending_by_gender is empty or non-numeric\n",
    "if spending_by_gender.empty or not spending_by_gender.dtypes.apply(lambda x: pd.api.types.is_numeric_dtype(x)).all():\n",
    "    raise ValueError(\"No valid numeric data for 'spending_by_gender'. Check data integrity.\")\n",
    "\n",
    "plt.figure(figsize=(10, 6))\n",
    "spending_by_gender.plot(kind='bar', color=['#00796b', '#d81b60', '#ffca28', '#0288d1', '#7b1fa2'])\n",
    "plt.title('Gender Distribution Across Spending Categories', fontsize=14, color='#424242')\n",
    "plt.xlabel('Gender', fontsize=12)\n",
    "plt.ylabel('Total Spending ($)', fontsize=12)\n",
    "plt.legend(title='Categories')\n",
    "plt.tight_layout()\n",
    "plt.savefig('spending_by_gender.png')\n",
    "plt.close()\n",
    "\n",
    "print(\"Visualizations saved as PNG files.\")\n"
   ]
  },
  {
   "cell_type": "code",
   "execution_count": null,
   "id": "a45aa43d",
   "metadata": {},
   "outputs": [],
   "source": []
  }
 ],
 "metadata": {
  "kernelspec": {
   "display_name": ".venv",
   "language": "python",
   "name": "python3"
  },
  "language_info": {
   "codemirror_mode": {
    "name": "ipython",
    "version": 3
   },
   "file_extension": ".py",
   "mimetype": "text/x-python",
   "name": "python",
   "nbconvert_exporter": "python",
   "pygments_lexer": "ipython3",
   "version": "3.12.3"
  }
 },
 "nbformat": 4,
 "nbformat_minor": 5
}
